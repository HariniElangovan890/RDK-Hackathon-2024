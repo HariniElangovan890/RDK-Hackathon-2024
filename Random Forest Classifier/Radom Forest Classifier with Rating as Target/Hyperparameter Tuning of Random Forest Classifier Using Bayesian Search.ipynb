{
 "cells": [
  {
   "cell_type": "code",
   "execution_count": 2,
   "metadata": {
    "colab": {
     "base_uri": "https://localhost:8080/"
    },
    "id": "hmcvJfT-D2ba",
    "outputId": "406a31b1-e0de-4953-bf1c-223c8080b5b6"
   },
   "outputs": [
    {
     "name": "stdout",
     "output_type": "stream",
     "text": [
      "Requirement already satisfied: optuna in /usr/local/lib/python3.10/dist-packages (3.5.0)\n",
      "Requirement already satisfied: alembic>=1.5.0 in /usr/local/lib/python3.10/dist-packages (from optuna) (1.13.1)\n",
      "Requirement already satisfied: colorlog in /usr/local/lib/python3.10/dist-packages (from optuna) (6.8.2)\n",
      "Requirement already satisfied: numpy in /usr/local/lib/python3.10/dist-packages (from optuna) (1.25.2)\n",
      "Requirement already satisfied: packaging>=20.0 in /usr/local/lib/python3.10/dist-packages (from optuna) (23.2)\n",
      "Requirement already satisfied: sqlalchemy>=1.3.0 in /usr/local/lib/python3.10/dist-packages (from optuna) (2.0.28)\n",
      "Requirement already satisfied: tqdm in /usr/local/lib/python3.10/dist-packages (from optuna) (4.66.2)\n",
      "Requirement already satisfied: PyYAML in /usr/local/lib/python3.10/dist-packages (from optuna) (6.0.1)\n",
      "Requirement already satisfied: Mako in /usr/local/lib/python3.10/dist-packages (from alembic>=1.5.0->optuna) (1.3.2)\n",
      "Requirement already satisfied: typing-extensions>=4 in /usr/local/lib/python3.10/dist-packages (from alembic>=1.5.0->optuna) (4.10.0)\n",
      "Requirement already satisfied: greenlet!=0.4.17 in /usr/local/lib/python3.10/dist-packages (from sqlalchemy>=1.3.0->optuna) (3.0.3)\n",
      "Requirement already satisfied: MarkupSafe>=0.9.2 in /usr/local/lib/python3.10/dist-packages (from Mako->alembic>=1.5.0->optuna) (2.1.5)\n"
     ]
    },
    {
     "name": "stderr",
     "output_type": "stream",
     "text": [
      "[I 2024-03-11 15:14:09,644] A new study created in memory with name: no-name-b54940b8-aa54-40ee-8161-674562c07f45\n",
      "[I 2024-03-11 15:14:13,612] Trial 0 finished with value: -0.6506666666666666 and parameters: {'n_estimators': 838, 'max_depth': 4, 'min_samples_split': 0.37343058114824, 'min_samples_leaf': 0.2897041476692438}. Best is trial 0 with value: -0.6506666666666666.\n",
      "[I 2024-03-11 15:14:14,888] Trial 1 finished with value: -0.6506666666666666 and parameters: {'n_estimators': 276, 'max_depth': 31, 'min_samples_split': 0.3163372668776899, 'min_samples_leaf': 0.43923853492002796}. Best is trial 0 with value: -0.6506666666666666.\n",
      "[I 2024-03-11 15:14:18,570] Trial 2 finished with value: -0.6506666666666666 and parameters: {'n_estimators': 831, 'max_depth': 13, 'min_samples_split': 0.38817714264238445, 'min_samples_leaf': 0.2921564167005078}. Best is trial 0 with value: -0.6506666666666666.\n",
      "[I 2024-03-11 15:14:21,257] Trial 3 finished with value: -0.6506666666666666 and parameters: {'n_estimators': 869, 'max_depth': 21, 'min_samples_split': 0.9309391528207698, 'min_samples_leaf': 0.11157787709145911}. Best is trial 0 with value: -0.6506666666666666.\n",
      "[I 2024-03-11 15:14:24,112] Trial 4 finished with value: -0.6506666666666666 and parameters: {'n_estimators': 646, 'max_depth': 7, 'min_samples_split': 0.5007798987367974, 'min_samples_leaf': 0.21942405643790008}. Best is trial 0 with value: -0.6506666666666666.\n",
      "[I 2024-03-11 15:14:24,921] Trial 5 finished with value: -0.6506666666666666 and parameters: {'n_estimators': 263, 'max_depth': 21, 'min_samples_split': 0.603679299219747, 'min_samples_leaf': 0.48142333415890526}. Best is trial 0 with value: -0.6506666666666666.\n",
      "[I 2024-03-11 15:14:25,413] Trial 6 finished with value: -0.6506666666666666 and parameters: {'n_estimators': 131, 'max_depth': 6, 'min_samples_split': 0.913996328957985, 'min_samples_leaf': 0.43291680113443387}. Best is trial 0 with value: -0.6506666666666666.\n",
      "[I 2024-03-11 15:14:29,890] Trial 7 finished with value: -0.6506666666666666 and parameters: {'n_estimators': 720, 'max_depth': 12, 'min_samples_split': 0.5334001999045774, 'min_samples_leaf': 0.23735291962423993}. Best is trial 0 with value: -0.6506666666666666.\n",
      "[I 2024-03-11 15:14:30,954] Trial 8 finished with value: -0.6506666666666666 and parameters: {'n_estimators': 348, 'max_depth': 4, 'min_samples_split': 0.20483664269018753, 'min_samples_leaf': 0.39288080971702233}. Best is trial 0 with value: -0.6506666666666666.\n",
      "[I 2024-03-11 15:14:33,631] Trial 9 finished with value: -0.6506666666666666 and parameters: {'n_estimators': 912, 'max_depth': 32, 'min_samples_split': 0.7746033228801796, 'min_samples_leaf': 0.354571963836386}. Best is trial 0 with value: -0.6506666666666666.\n",
      "[I 2024-03-11 15:14:36,143] Trial 10 finished with value: -0.6506666666666666 and parameters: {'n_estimators': 568, 'max_depth': 2, 'min_samples_split': 0.16140660164579143, 'min_samples_leaf': 0.12595156586560205}. Best is trial 0 with value: -0.6506666666666666.\n",
      "[I 2024-03-11 15:14:37,346] Trial 11 finished with value: -0.6506666666666666 and parameters: {'n_estimators': 388, 'max_depth': 32, 'min_samples_split': 0.32174436487519936, 'min_samples_leaf': 0.325281315077768}. Best is trial 0 with value: -0.6506666666666666.\n",
      "[I 2024-03-11 15:14:37,484] Trial 12 finished with value: -0.6506666666666666 and parameters: {'n_estimators': 22, 'max_depth': 26, 'min_samples_split': 0.3443120022006195, 'min_samples_leaf': 0.24942804798836182}. Best is trial 0 with value: -0.6506666666666666.\n",
      "[I 2024-03-11 15:14:39,470] Trial 13 finished with value: -0.6506666666666666 and parameters: {'n_estimators': 487, 'max_depth': 16, 'min_samples_split': 0.10498070668864198, 'min_samples_leaf': 0.4954803172064726}. Best is trial 0 with value: -0.6506666666666666.\n",
      "[I 2024-03-11 15:14:42,728] Trial 14 finished with value: -0.6506666666666666 and parameters: {'n_estimators': 980, 'max_depth': 25, 'min_samples_split': 0.2697225374332588, 'min_samples_leaf': 0.4079574194006512}. Best is trial 0 with value: -0.6506666666666666.\n"
     ]
    },
    {
     "name": "stdout",
     "output_type": "stream",
     "text": [
      "Rating Accuracy using Bayesian Search with Random Forest Classifier: 0.6506666666666666\n",
      "['small soldiers', 'spider-man 2', 'spider-man 3', 'wimbledon', 'crazy/beautiful', 'elizabethtown', \"the cat's meow\", 'eternal sunshine of the spotless mind', 'homicide', 'jurassic park iii']\n"
     ]
    }
   ],
   "source": [
    "!pip install optuna\n",
    "import optuna\n",
    "import pandas as pd\n",
    "import numpy as np\n",
    "from sklearn.svm import SVC\n",
    "from xgboost import XGBClassifier\n",
    "from sklearn.metrics import accuracy_score\n",
    "from sklearn.metrics.pairwise import cosine_similarity\n",
    "from sklearn.model_selection import train_test_split\n",
    "from sklearn.ensemble import RandomForestClassifier\n",
    "from sklearn.feature_extraction.text import TfidfVectorizer\n",
    "\n",
    "url =\"/content/Sample_Dataset_15k 1.csv\"\n",
    "df = pd.read_csv(url, header=None, encoding='latin1')\n",
    "df.drop(df.columns[-1], axis=1, inplace=True)\n",
    "column_names = ['director_name', 'actor_1_name', 'actor_2_name', 'actor_3_name', 'genres', 'Title', 'combination', 'Rating', 'Age Category', 'Language']\n",
    "df.columns = column_names\n",
    "df['combined_features'] = df['director_name'] + ' ' +  df['actor_1_name'] + ' ' + df['actor_2_name'] + ' ' + df['actor_3_name'] + ' ' + df['genres'] + ' ' + df['Language'] + ' ' + df['Age Category'].astype(str)\n",
    "\n",
    "# Create a TF-IDF vectorizer\n",
    "tfidf_vectorizer = TfidfVectorizer(stop_words='english')\n",
    "tfidf_matrix = tfidf_vectorizer.fit_transform(df['combined_features'])\n",
    "cosine_sim = cosine_similarity(tfidf_matrix, tfidf_matrix)\n",
    "\n",
    "X = tfidf_matrix\n",
    "y = df['Rating']\n",
    "X_train, X_test, y_train, y_test = train_test_split(X, y, test_size=0.25, random_state=42)\n",
    "\n",
    "def objective_rf(trial):\n",
    "    n_estimators = trial.suggest_int(\"n_estimators\", 10, 1000)\n",
    "    max_depth = trial.suggest_int(\"max_depth\", 2, 32)\n",
    "    min_samples_split = trial.suggest_float(\"min_samples_split\", 0.1, 1.0)\n",
    "    min_samples_leaf = trial.suggest_float(\"min_samples_leaf\", 0.1, 0.5)\n",
    "    model = RandomForestClassifier(\n",
    "        n_estimators=n_estimators,\n",
    "        max_depth=max_depth,\n",
    "        min_samples_split=min_samples_split,\n",
    "        min_samples_leaf=min_samples_leaf,\n",
    "        random_state=42\n",
    "    )\n",
    "    model.fit(X_train, y_train)\n",
    "    pred = model.predict(X_test)\n",
    "    accuracy = accuracy_score(y_test, pred)\n",
    "    return -accuracy\n",
    "\n",
    "study_rf = optuna.create_study()\n",
    "study_rf.optimize(objective_rf, n_trials=15)\n",
    "best_params_rf = study_rf.best_params\n",
    "bayesian_rf_model = RandomForestClassifier(**best_params_rf, random_state=42)\n",
    "bayesian_rf_model.fit(X_train, y_train)\n",
    "y_pred_rf = bayesian_rf_model.predict(X_test)\n",
    "accuracy_rf = accuracy_score(y_test, y_pred_rf)\n",
    "print(\"Rating Accuracy using Bayesian Search with Random Forest Classifier:\", accuracy_rf)\n",
    "\n",
    "def recommend(movie_title, model, data, vectorizer, cosine_sim):\n",
    "    idx = data[data['Title'] == movie_title].index[0]\n",
    "    movie_features = vectorizer.transform([data.iloc[idx]['combined_features']])\n",
    "    movie_rating = model.predict(movie_features)[0]\n",
    "    similar_indices = [i for i, rating in enumerate(data['Rating']) if abs(rating - movie_rating) < 0.5]\n",
    "    sim_scores = [(i, cosine_sim[idx, i]) for i in similar_indices]\n",
    "    sim_scores = sorted(sim_scores, key=lambda x: x[1], reverse=True)\n",
    "    sim_indices = [i[0] for i in sim_scores[1:11]]\n",
    "    return data.iloc[sim_indices]['Title'].tolist()\n",
    "    \n",
    "#Recomendation\n",
    "movie_title = 'jumanji'\n",
    "recommended_movies = recommend(movie_title, bayesian_rf_model, df, tfidf_vectorizer, cosine_sim)\n",
    "print(recommended_movies)"
   ]
  }
 ],
 "metadata": {
  "colab": {
   "provenance": []
  },
  "kernelspec": {
   "display_name": "Python 3 (ipykernel)",
   "language": "python",
   "name": "python3"
  },
  "language_info": {
   "codemirror_mode": {
    "name": "ipython",
    "version": 3
   },
   "file_extension": ".py",
   "mimetype": "text/x-python",
   "name": "python",
   "nbconvert_exporter": "python",
   "pygments_lexer": "ipython3",
   "version": "3.12.0"
  }
 },
 "nbformat": 4,
 "nbformat_minor": 4
}
