{
 "cells": [
  {
   "cell_type": "code",
   "execution_count": null,
   "metadata": {
    "colab": {
     "background_save": true,
     "base_uri": "https://localhost:8080/"
    },
    "id": "zwDoQ3ZZJWDT",
    "outputId": "0a145045-dd42-40b4-dc91-050c25fab8fa"
   },
   "outputs": [
    {
     "name": "stdout",
     "output_type": "stream",
     "text": [
      "Fitting 5 folds for each of 10 candidates, totalling 50 fits\n",
      "Best Parameters: {'n_estimators': 400, 'min_samples_split': 10, 'min_samples_leaf': 1, 'max_features': 'sqrt', 'max_depth': 60, 'bootstrap': False}\n",
      "Best Score: 0.3402960723284423\n",
      "Subscription Accuracy using RandomizedSearchCV: 0.3317333333333333\n",
      "['spider-man 2', 'the rocketeer', 'october sky', 'crazy/beautiful', 'eternal sunshine of the spotless mind', 'honey, i shrunk the kids', 'get over it', 'hidalgo', 'the crow: salvation', 'toys']\n"
     ]
    }
   ],
   "source": [
    "import pandas as pd\n",
    "import numpy as np\n",
    "from sklearn.model_selection import train_test_split, RandomizedSearchCV\n",
    "from sklearn.metrics import accuracy_score\n",
    "from sklearn.feature_extraction.text import TfidfVectorizer\n",
    "from sklearn.ensemble import RandomForestClassifier\n",
    "from sklearn.metrics.pairwise import cosine_similarity\n",
    "\n",
    "url = \"/content/Sample_Dataset_15k 1.csv\"\n",
    "df = pd.read_csv(url, header=None, encoding='latin1')\n",
    "df.drop(df.columns[-1], axis=1, inplace=True)\n",
    "column_names = ['director_name', 'actor_1_name', 'actor_2_name', 'actor_3_name', 'genres', 'Title', 'combination', 'Rating', 'Age Category', 'Language']\n",
    "df.columns = column_names\n",
    "df['Subscription'] = np.random.choice(['Basic', 'Standard', 'Premium'], size=len(df))\n",
    "df['combined_features'] = df['director_name'] + ' ' + df['actor_1_name'] + ' ' + df['actor_2_name'] + ' ' + df['actor_3_name'] + ' ' + df['genres'] + ' ' + df['Language'] + ' ' + df['Age Category'].astype(str)\n",
    "tfidf_vectorizer = TfidfVectorizer(stop_words='english')\n",
    "tfidf_matrix = tfidf_vectorizer.fit_transform(df['combined_features'])\n",
    "cosine_sim = cosine_similarity(tfidf_matrix, tfidf_matrix)\n",
    "X = df.drop(['Title', 'combination', 'Rating', 'Subscription'], axis=1)\n",
    "y = df['Subscription']\n",
    "X_train, X_test, y_train, y_test = train_test_split(X, y, test_size=0.25, random_state=42)\n",
    "\n",
    "X_train_text = tfidf_vectorizer.transform(X_train['combined_features'])\n",
    "X_test_text = tfidf_vectorizer.transform(X_test['combined_features'])\n",
    "param_dist = {\n",
    "    'n_estimators': [int(x) for x in np.linspace(start=200, stop=2000, num=10)],\n",
    "    'max_features': ['auto', 'sqrt'],\n",
    "    'max_depth': [int(x) for x in np.linspace(10, 110, num=11)] + [None],\n",
    "    'min_samples_split': [2, 5, 10],\n",
    "    'min_samples_leaf': [1, 2, 4],\n",
    "    'bootstrap': [True, False]\n",
    "}\n",
    "\n",
    "# Initialize RandomForestClassifier\n",
    "rf_classifier = RandomForestClassifier(random_state=42)\n",
    "random_search = RandomizedSearchCV(estimator=rf_classifier, param_distributions=param_dist, n_iter=10, cv=5, verbose=2, random_state=42, n_jobs=-1)\n",
    "random_search.fit(X_train_text, y_train)\n",
    "best_params = random_search.best_params_\n",
    "best_score = random_search.best_score_\n",
    "print(\"Best Parameters:\", best_params)\n",
    "print(\"Best Score:\", best_score)\n",
    "best_rf_classifier = RandomForestClassifier(**best_params, random_state=42)\n",
    "best_rf_classifier.fit(X_train_text, y_train)\n",
    "\n",
    "y_pred = best_rf_classifier.predict(X_test_text)\n",
    "accuracy = accuracy_score(y_test, y_pred)\n",
    "print(\"Subscription Accuracy using RandomizedSearchCV:\", accuracy)\n",
    "\n",
    "def recommend(movie_title, model, data, vectorizer, cosine_sim):\n",
    "    idx = data[data['Title'] == movie_title].index[0]\n",
    "    movie_features = vectorizer.transform([data.iloc[idx]['combined_features']])\n",
    "    movie_subscription = model.predict(movie_features)[0]\n",
    "    similar_indices = [i for i, subscription in enumerate(data['Subscription']) if subscription == movie_subscription]\n",
    "    sim_scores = [(i, cosine_sim[idx, i]) for i in similar_indices]\n",
    "    sim_scores = sorted(sim_scores, key=lambda x: x[1], reverse=True)\n",
    "    sim_indices = [i[0] for i in sim_scores[1:11]]\n",
    "    return data.iloc[sim_indices]['Title'].tolist()\n",
    "\n",
    "# Recommendation\n",
    "movie_title = 'jumanji'  # Specify the movie title for which you want recommendations\n",
    "recommended_movies = recommend(movie_title, best_rf_classifier, df, tfidf_vectorizer, cosine_sim)\n",
    "print(recommended_movies)"
   ]
  }
 ],
 "metadata": {
  "colab": {
   "provenance": []
  },
  "kernelspec": {
   "display_name": "Python 3 (ipykernel)",
   "language": "python",
   "name": "python3"
  },
  "language_info": {
   "codemirror_mode": {
    "name": "ipython",
    "version": 3
   },
   "file_extension": ".py",
   "mimetype": "text/x-python",
   "name": "python",
   "nbconvert_exporter": "python",
   "pygments_lexer": "ipython3",
   "version": "3.12.0"
  }
 },
 "nbformat": 4,
 "nbformat_minor": 4
}
