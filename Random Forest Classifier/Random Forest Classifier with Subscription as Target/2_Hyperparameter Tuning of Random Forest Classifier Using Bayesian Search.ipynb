{
 "cells": [
  {
   "cell_type": "code",
   "execution_count": 1,
   "metadata": {
    "colab": {
     "base_uri": "https://localhost:8080/"
    },
    "id": "-3ELMlcwGoo5",
    "outputId": "aca46df8-d43c-4926-dade-b32b40db701b"
   },
   "outputs": [
    {
     "name": "stdout",
     "output_type": "stream",
     "text": [
      "Collecting optuna\n",
      "  Downloading optuna-3.5.0-py3-none-any.whl (413 kB)\n",
      "\u001b[2K     \u001b[90m━━━━━━━━━━━━━━━━━━━━━━━━━━━━━━━━━━━━━━━━\u001b[0m \u001b[32m413.4/413.4 kB\u001b[0m \u001b[31m7.8 MB/s\u001b[0m eta \u001b[36m0:00:00\u001b[0m\n",
      "\u001b[?25hCollecting alembic>=1.5.0 (from optuna)\n",
      "  Downloading alembic-1.13.1-py3-none-any.whl (233 kB)\n",
      "\u001b[2K     \u001b[90m━━━━━━━━━━━━━━━━━━━━━━━━━━━━━━━━━━━━━━━━\u001b[0m \u001b[32m233.4/233.4 kB\u001b[0m \u001b[31m13.3 MB/s\u001b[0m eta \u001b[36m0:00:00\u001b[0m\n",
      "\u001b[?25hCollecting colorlog (from optuna)\n",
      "  Downloading colorlog-6.8.2-py3-none-any.whl (11 kB)\n",
      "Requirement already satisfied: numpy in /usr/local/lib/python3.10/dist-packages (from optuna) (1.25.2)\n",
      "Requirement already satisfied: packaging>=20.0 in /usr/local/lib/python3.10/dist-packages (from optuna) (23.2)\n",
      "Requirement already satisfied: sqlalchemy>=1.3.0 in /usr/local/lib/python3.10/dist-packages (from optuna) (2.0.28)\n",
      "Requirement already satisfied: tqdm in /usr/local/lib/python3.10/dist-packages (from optuna) (4.66.2)\n",
      "Requirement already satisfied: PyYAML in /usr/local/lib/python3.10/dist-packages (from optuna) (6.0.1)\n",
      "Collecting Mako (from alembic>=1.5.0->optuna)\n",
      "  Downloading Mako-1.3.2-py3-none-any.whl (78 kB)\n",
      "\u001b[2K     \u001b[90m━━━━━━━━━━━━━━━━━━━━━━━━━━━━━━━━━━━━━━━━\u001b[0m \u001b[32m78.7/78.7 kB\u001b[0m \u001b[31m9.2 MB/s\u001b[0m eta \u001b[36m0:00:00\u001b[0m\n",
      "\u001b[?25hRequirement already satisfied: typing-extensions>=4 in /usr/local/lib/python3.10/dist-packages (from alembic>=1.5.0->optuna) (4.10.0)\n",
      "Requirement already satisfied: greenlet!=0.4.17 in /usr/local/lib/python3.10/dist-packages (from sqlalchemy>=1.3.0->optuna) (3.0.3)\n",
      "Requirement already satisfied: MarkupSafe>=0.9.2 in /usr/local/lib/python3.10/dist-packages (from Mako->alembic>=1.5.0->optuna) (2.1.5)\n",
      "Installing collected packages: Mako, colorlog, alembic, optuna\n",
      "Successfully installed Mako-1.3.2 alembic-1.13.1 colorlog-6.8.2 optuna-3.5.0\n"
     ]
    },
    {
     "name": "stderr",
     "output_type": "stream",
     "text": [
      "[I 2024-03-11 15:26:04,252] A new study created in memory with name: no-name-d337c601-4197-4332-8959-d1cc8589d374\n",
      "[I 2024-03-11 15:26:05,788] Trial 0 finished with value: -0.332 and parameters: {'n_estimators': 344, 'max_depth': 5, 'min_samples_split': 0.3951617367205691, 'min_samples_leaf': 0.18520089237981585}. Best is trial 0 with value: -0.332.\n",
      "[I 2024-03-11 15:26:08,808] Trial 1 finished with value: -0.332 and parameters: {'n_estimators': 581, 'max_depth': 2, 'min_samples_split': 0.29971888644704253, 'min_samples_leaf': 0.25643160815235366}. Best is trial 0 with value: -0.332.\n",
      "[I 2024-03-11 15:26:09,835] Trial 2 finished with value: -0.332 and parameters: {'n_estimators': 145, 'max_depth': 30, 'min_samples_split': 0.1820535894312349, 'min_samples_leaf': 0.1855044449453983}. Best is trial 0 with value: -0.332.\n",
      "[I 2024-03-11 15:26:10,245] Trial 3 finished with value: -0.332 and parameters: {'n_estimators': 129, 'max_depth': 32, 'min_samples_split': 0.8433342319972341, 'min_samples_leaf': 0.20198921934772365}. Best is trial 0 with value: -0.332.\n",
      "[I 2024-03-11 15:26:13,077] Trial 4 finished with value: -0.332 and parameters: {'n_estimators': 907, 'max_depth': 15, 'min_samples_split': 0.6529982290730016, 'min_samples_leaf': 0.30290875752581514}. Best is trial 0 with value: -0.332.\n",
      "[I 2024-03-11 15:26:14,801] Trial 5 finished with value: -0.332 and parameters: {'n_estimators': 407, 'max_depth': 15, 'min_samples_split': 0.485432597453724, 'min_samples_leaf': 0.267117392677793}. Best is trial 0 with value: -0.332.\n",
      "[I 2024-03-11 15:26:16,134] Trial 6 finished with value: -0.332 and parameters: {'n_estimators': 292, 'max_depth': 28, 'min_samples_split': 0.13819651872248082, 'min_samples_leaf': 0.17347640191944302}. Best is trial 0 with value: -0.332.\n",
      "[I 2024-03-11 15:26:18,029] Trial 7 finished with value: -0.332 and parameters: {'n_estimators': 632, 'max_depth': 3, 'min_samples_split': 0.44882874376297655, 'min_samples_leaf': 0.32224344693853124}. Best is trial 0 with value: -0.332.\n",
      "[I 2024-03-11 15:26:19,961] Trial 8 finished with value: -0.332 and parameters: {'n_estimators': 627, 'max_depth': 17, 'min_samples_split': 0.6521439341968792, 'min_samples_leaf': 0.2677545744832368}. Best is trial 0 with value: -0.332.\n",
      "[I 2024-03-11 15:26:20,348] Trial 9 finished with value: -0.332 and parameters: {'n_estimators': 54, 'max_depth': 28, 'min_samples_split': 0.362464877420677, 'min_samples_leaf': 0.2728364563434086}. Best is trial 0 with value: -0.332.\n",
      "[I 2024-03-11 15:26:23,827] Trial 10 finished with value: -0.332 and parameters: {'n_estimators': 917, 'max_depth': 8, 'min_samples_split': 0.9381335343935673, 'min_samples_leaf': 0.45449375405789705}. Best is trial 0 with value: -0.332.\n",
      "[I 2024-03-11 15:26:26,514] Trial 11 finished with value: -0.332 and parameters: {'n_estimators': 614, 'max_depth': 2, 'min_samples_split': 0.3307443711239231, 'min_samples_leaf': 0.1361881999248658}. Best is trial 0 with value: -0.332.\n",
      "[I 2024-03-11 15:26:27,803] Trial 12 finished with value: -0.332 and parameters: {'n_estimators': 425, 'max_depth': 8, 'min_samples_split': 0.27215223282769085, 'min_samples_leaf': 0.3897115692513229}. Best is trial 0 with value: -0.332.\n",
      "[I 2024-03-11 15:26:31,029] Trial 13 finished with value: -0.332 and parameters: {'n_estimators': 755, 'max_depth': 8, 'min_samples_split': 0.6032120967035076, 'min_samples_leaf': 0.11052031029915219}. Best is trial 0 with value: -0.332.\n",
      "[I 2024-03-11 15:26:32,335] Trial 14 finished with value: -0.332 and parameters: {'n_estimators': 301, 'max_depth': 5, 'min_samples_split': 0.22232688763653663, 'min_samples_leaf': 0.22679791574579314}. Best is trial 0 with value: -0.332.\n",
      "[I 2024-03-11 15:26:34,861] Trial 15 finished with value: -0.332 and parameters: {'n_estimators': 541, 'max_depth': 22, 'min_samples_split': 0.41717499658558405, 'min_samples_leaf': 0.3558679974135427}. Best is trial 0 with value: -0.332.\n",
      "[I 2024-03-11 15:26:38,284] Trial 16 finished with value: -0.332 and parameters: {'n_estimators': 793, 'max_depth': 11, 'min_samples_split': 0.5209053621462466, 'min_samples_leaf': 0.22858277554351636}. Best is trial 0 with value: -0.332.\n",
      "[I 2024-03-11 15:26:39,226] Trial 17 finished with value: -0.332 and parameters: {'n_estimators': 296, 'max_depth': 12, 'min_samples_split': 0.7696933056691873, 'min_samples_leaf': 0.1580794316202726}. Best is trial 0 with value: -0.332.\n",
      "[I 2024-03-11 15:26:40,598] Trial 18 finished with value: -0.332 and parameters: {'n_estimators': 445, 'max_depth': 22, 'min_samples_split': 0.10890091594986834, 'min_samples_leaf': 0.49752328097747334}. Best is trial 0 with value: -0.332.\n",
      "[I 2024-03-11 15:26:42,832] Trial 19 finished with value: -0.332 and parameters: {'n_estimators': 735, 'max_depth': 5, 'min_samples_split': 0.2827714162007593, 'min_samples_leaf': 0.3722483189431838}. Best is trial 0 with value: -0.332.\n"
     ]
    },
    {
     "name": "stdout",
     "output_type": "stream",
     "text": [
      "Subscription Accuracy using Bayesian Search with Random Forest Classifier: 0.332\n",
      "['spider-man 2', 'october sky', 'wimbledon', 'crazy/beautiful', 'eternal sunshine of the spotless mind', 'honey, i shrunk the kids', 'get over it', 'all i wanna do', 'the night listener', 'the crow: salvation']\n"
     ]
    }
   ],
   "source": [
    "!pip install optuna\n",
    "import optuna\n",
    "import pandas as pd\n",
    "import numpy as np\n",
    "from sklearn.metrics import accuracy_score\n",
    "from sklearn.metrics.pairwise import cosine_similarity\n",
    "from sklearn.model_selection import train_test_split\n",
    "from sklearn.ensemble import RandomForestClassifier\n",
    "from sklearn.feature_extraction.text import TfidfVectorizer\n",
    "\n",
    "url = \"/content/Sample_Dataset_15k 1.csv\"\n",
    "df = pd.read_csv(url, header=None, encoding='latin1')\n",
    "column_names = ['director_name', 'actor_1_name', 'actor_2_name', 'actor_3_name', 'genres', 'Title', 'combination', 'Rating', 'Age Category', 'Language', 'Subscription']\n",
    "df.columns = column_names\n",
    "df['combined_features'] = df['director_name'] + ' ' +  df['actor_1_name'] + ' ' + df['actor_2_name'] + ' ' + df['actor_3_name'] + ' ' + df['genres'] + ' ' +  df['Age Category'].astype(str) + ' ' + df['Language']\n",
    "\n",
    "# Create a TF-IDF vectorizer\n",
    "tfidf_vectorizer = TfidfVectorizer(stop_words='english')\n",
    "tfidf_matrix = tfidf_vectorizer.fit_transform(df['combined_features'])\n",
    "cosine_sim = cosine_similarity(tfidf_matrix, tfidf_matrix)\n",
    "\n",
    "X = tfidf_matrix\n",
    "y = df['Subscription']\n",
    "X_train, X_test, y_train, y_test = train_test_split(X, y, test_size=0.25, random_state=42)\n",
    "\n",
    "def objective_rf(trial):\n",
    "    n_estimators = trial.suggest_int(\"n_estimators\", 10, 1000)\n",
    "    max_depth = trial.suggest_int(\"max_depth\", 2, 32)\n",
    "    min_samples_split = trial.suggest_float(\"min_samples_split\", 0.1, 1.0)\n",
    "    min_samples_leaf = trial.suggest_float(\"min_samples_leaf\", 0.1, 0.5)\n",
    "    model = RandomForestClassifier(\n",
    "        n_estimators=n_estimators,\n",
    "        max_depth=max_depth,\n",
    "        min_samples_split=min_samples_split,\n",
    "        min_samples_leaf=min_samples_leaf,\n",
    "        random_state=42\n",
    "    )\n",
    "    model.fit(X_train, y_train)\n",
    "    pred = model.predict(X_test)\n",
    "    accuracy = accuracy_score(y_test, pred)\n",
    "    return -accuracy\n",
    "\n",
    "# Create study and run optimization:\n",
    "study_rf = optuna.create_study()\n",
    "study_rf.optimize(objective_rf, n_trials=20)\n",
    "best_params_rf = study_rf.best_params\n",
    "bayesian_rf_model = RandomForestClassifier(**best_params_rf, random_state=42)\n",
    "bayesian_rf_model.fit(X_train, y_train)\n",
    "y_pred_rf = bayesian_rf_model.predict(X_test)\n",
    "accuracy_rf = accuracy_score(y_test, y_pred_rf)\n",
    "print(\"Subscription Accuracy using Bayesian Search with Random Forest Classifier:\", accuracy_rf)\n",
    "\n",
    "def recommend(movie_title, model, data, vectorizer, cosine_sim):\n",
    "    idx = data[data['Title'] == movie_title].index[0]\n",
    "    movie_features = vectorizer.transform([data.iloc[idx]['combined_features']])\n",
    "    movie_subscription = model.predict(movie_features)[0]\n",
    "    similar_indices = [i for i, subscription in enumerate(data['Subscription']) if subscription == movie_subscription]\n",
    "    sim_scores = [(i, cosine_sim[idx, i]) for i in similar_indices]\n",
    "    sim_scores = sorted(sim_scores, key=lambda x: x[1], reverse=True)\n",
    "    sim_indices = [i[0] for i in sim_scores[1:11]]\n",
    "    return data.iloc[sim_indices]['Title'].tolist()\n",
    "    \n",
    "# Recommendation\n",
    "movie_title = 'jumanji'\n",
    "recommended_movies = recommend(movie_title, bayesian_rf_model, df, tfidf_vectorizer, cosine_sim)\n",
    "print(recommended_movies)"
   ]
  }
 ],
 "metadata": {
  "colab": {
   "provenance": []
  },
  "kernelspec": {
   "display_name": "Python 3 (ipykernel)",
   "language": "python",
   "name": "python3"
  },
  "language_info": {
   "codemirror_mode": {
    "name": "ipython",
    "version": 3
   },
   "file_extension": ".py",
   "mimetype": "text/x-python",
   "name": "python",
   "nbconvert_exporter": "python",
   "pygments_lexer": "ipython3",
   "version": "3.12.0"
  }
 },
 "nbformat": 4,
 "nbformat_minor": 4
}
