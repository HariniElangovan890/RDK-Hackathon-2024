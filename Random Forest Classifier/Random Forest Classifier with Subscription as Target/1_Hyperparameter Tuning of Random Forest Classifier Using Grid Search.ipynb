{
 "cells": [
  {
   "cell_type": "code",
   "execution_count": null,
   "metadata": {
    "colab": {
     "background_save": true
    },
    "id": "g2Xs1htK98CC",
    "outputId": "b96d1f74-4a73-47c7-9d53-0815d3843803"
   },
   "outputs": [
    {
     "name": "stdout",
     "output_type": "stream",
     "text": [
      "Subscription Accuracy using Grid Search: 0.3330666666666667\n",
      "['spider-man 2', 'october sky', 'wimbledon', 'crazy/beautiful', 'eternal sunshine of the spotless mind', 'honey, i shrunk the kids', 'get over it', 'all i wanna do', 'the night listener', 'the crow: salvation']\n"
     ]
    }
   ],
   "source": [
    "import pandas as pd\n",
    "import numpy as np\n",
    "from sklearn.model_selection import train_test_split, GridSearchCV\n",
    "from sklearn.metrics import accuracy_score\n",
    "from sklearn.feature_extraction.text import TfidfVectorizer\n",
    "from sklearn.ensemble import RandomForestClassifier\n",
    "from sklearn.metrics.pairwise import cosine_similarity\n",
    "\n",
    "url = \"/content/Sample_Dataset_15k 1.csv\"\n",
    "df = pd.read_csv(url, header=None, encoding='latin1')\n",
    "df.fillna('', inplace=True)\n",
    "column_names = ['director_name', 'actor_1_name', 'actor_2_name', 'actor_3_name', 'genres', 'Title', 'combination', 'Rating', 'Age Category', 'Language', 'Subscription']\n",
    "df.columns = column_names\n",
    "df['combined_features'] = (df['director_name'] + ' ' +\n",
    "                            df['actor_1_name'] + ' ' +\n",
    "                            df['actor_2_name'] + ' ' +\n",
    "                            df['actor_3_name'] + ' ' +\n",
    "                            df['genres'] + ' ' +\n",
    "                            df['Language'] + ' ' +\n",
    "                            df['Age Category'].astype(str) + ' ' +\n",
    "                            df['Subscription'].astype(str)\n",
    "                           )\n",
    "\n",
    "# TF-IDF Vectorization\n",
    "tfidf_vectorizer = TfidfVectorizer(stop_words='english')\n",
    "tfidf_matrix = tfidf_vectorizer.fit_transform(df['combined_features'])\n",
    "cosine_sim = cosine_similarity(tfidf_matrix, tfidf_matrix)\n",
    "\n",
    "X = df.drop(['Title','Rating', 'Subscription'], axis=1)\n",
    "y = df['Subscription']\n",
    "X_train, X_test, y_train, y_test = train_test_split(X, y, test_size=0.25, random_state=42)\n",
    "\n",
    "X_train_text = tfidf_vectorizer.transform(X_train['combined_features'])\n",
    "X_test_text = tfidf_vectorizer.transform(X_test['combined_features'])\n",
    "\n",
    "param_grid = {\n",
    "    'n_estimators': [100, 200, 300],\n",
    "    'max_depth': [None, 10, 20]\n",
    "}\n",
    "rf_model = RandomForestClassifier(random_state=42)\n",
    "grid_search = GridSearchCV(rf_model, param_grid, cv=5)\n",
    "grid_search.fit(X_train_text, y_train)\n",
    "best_rf_model = grid_search.best_estimator_\n",
    "\n",
    "y_pred = best_rf_model.predict(X_test_text)\n",
    "accuracy = accuracy_score(y_test, y_pred)\n",
    "print(\"Subscription Accuracy using Grid Search:\", accuracy)\n",
    "\n",
    "def recommend(movie_title, model, data, vectorizer, cosine_sim):\n",
    "    idx = data[data['Title'] == movie_title].index[0]\n",
    "    movie_features = vectorizer.transform([data.iloc[idx]['combined_features']])\n",
    "    movie_subscription = model.predict(movie_features)[0]\n",
    "    similar_indices = [i for i, subscription in enumerate(data['Subscription']) if subscription == movie_subscription]\n",
    "    sim_scores = [(i, cosine_sim[idx, i]) for i in similar_indices]\n",
    "    sim_scores = sorted(sim_scores, key=lambda x: x[1], reverse=True)\n",
    "    sim_indices = [i[0] for i in sim_scores[1:11]] \n",
    "    return data.iloc[sim_indices]['Title'].tolist()\n",
    "\n",
    "# Recommendarion\n",
    "movie_title = 'jumanji'\n",
    "recommended_movies = recommend(movie_title, best_rf_model, df, tfidf_vectorizer, cosine_sim)\n",
    "print(recommended_movies)"
   ]
  }
 ],
 "metadata": {
  "colab": {
   "provenance": []
  },
  "kernelspec": {
   "display_name": "Python 3 (ipykernel)",
   "language": "python",
   "name": "python3"
  },
  "language_info": {
   "codemirror_mode": {
    "name": "ipython",
    "version": 3
   },
   "file_extension": ".py",
   "mimetype": "text/x-python",
   "name": "python",
   "nbconvert_exporter": "python",
   "pygments_lexer": "ipython3",
   "version": "3.12.0"
  }
 },
 "nbformat": 4,
 "nbformat_minor": 4
}
